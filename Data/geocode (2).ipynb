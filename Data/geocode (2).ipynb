{
 "cells": [
  {
   "cell_type": "code",
   "execution_count": 1,
   "metadata": {},
   "outputs": [],
   "source": [
    "import pathlib\n",
    "import pandas as pd\n",
    "import numpy as np\n",
    "import os\n",
    "\n",
    "import h3"
   ]
  },
  {
   "cell_type": "code",
   "execution_count": 2,
   "metadata": {},
   "outputs": [],
   "source": [
    "import pandas as pd\n",
    "from tqdm import tqdm\n",
    "tqdm.pandas()\n",
    "import time"
   ]
  },
  {
   "cell_type": "code",
   "execution_count": 3,
   "metadata": {},
   "outputs": [],
   "source": [
    "data=pd.read_excel('my_data.xlsx', sheet_name=0)\n"
   ]
  },
  {
   "cell_type": "code",
   "execution_count": 4,
   "metadata": {},
   "outputs": [
    {
     "name": "stderr",
     "output_type": "stream",
     "text": [
      "/usr/local/lib/python3.6/dist-packages/ipykernel_launcher.py:6: SettingWithCopyWarning: \n",
      "A value is trying to be set on a copy of a slice from a DataFrame.\n",
      "Try using .loc[row_indexer,col_indexer] = value instead\n",
      "\n",
      "See the caveats in the documentation: https://pandas.pydata.org/pandas-docs/stable/user_guide/indexing.html#returning-a-view-versus-a-copy\n",
      "  \n"
     ]
    },
    {
     "data": {
      "text/html": [
       "<div>\n",
       "<style scoped>\n",
       "    .dataframe tbody tr th:only-of-type {\n",
       "        vertical-align: middle;\n",
       "    }\n",
       "\n",
       "    .dataframe tbody tr th {\n",
       "        vertical-align: top;\n",
       "    }\n",
       "\n",
       "    .dataframe thead th {\n",
       "        text-align: right;\n",
       "    }\n",
       "</style>\n",
       "<table border=\"1\" class=\"dataframe\">\n",
       "  <thead>\n",
       "    <tr style=\"text-align: right;\">\n",
       "      <th></th>\n",
       "      <th>adres</th>\n",
       "      <th>longitude</th>\n",
       "      <th>latitude</th>\n",
       "    </tr>\n",
       "  </thead>\n",
       "  <tbody>\n",
       "    <tr>\n",
       "      <th>0</th>\n",
       "      <td>г. Миасс, ул. Силовая, 1</td>\n",
       "      <td>0</td>\n",
       "      <td>0</td>\n",
       "    </tr>\n",
       "    <tr>\n",
       "      <th>1</th>\n",
       "      <td>1. Сосновский район,  п. Есаульский,  ул. Заго...</td>\n",
       "      <td>0</td>\n",
       "      <td>0</td>\n",
       "    </tr>\n",
       "    <tr>\n",
       "      <th>2</th>\n",
       "      <td>1. г. Челябинск, в районе трамвайного кольца «...</td>\n",
       "      <td>0</td>\n",
       "      <td>0</td>\n",
       "    </tr>\n",
       "    <tr>\n",
       "      <th>3</th>\n",
       "      <td>1. г. Челябинск, ул.Строительная, 21 (черный, ...</td>\n",
       "      <td>0</td>\n",
       "      <td>0</td>\n",
       "    </tr>\n",
       "    <tr>\n",
       "      <th>4</th>\n",
       "      <td>г. Челябинск, ул. Автодорож ная, д. 10</td>\n",
       "      <td>0</td>\n",
       "      <td>0</td>\n",
       "    </tr>\n",
       "    <tr>\n",
       "      <th>...</th>\n",
       "      <td>...</td>\n",
       "      <td>...</td>\n",
       "      <td>...</td>\n",
       "    </tr>\n",
       "    <tr>\n",
       "      <th>57364</th>\n",
       "      <td>197374, г. Санкт-Петербург, ул. Савушкина, д. ...</td>\n",
       "      <td>0</td>\n",
       "      <td>0</td>\n",
       "    </tr>\n",
       "    <tr>\n",
       "      <th>57365</th>\n",
       "      <td>123022, г. Москва, ул. Красная Пресня, д. 31/2...</td>\n",
       "      <td>0</td>\n",
       "      <td>0</td>\n",
       "    </tr>\n",
       "    <tr>\n",
       "      <th>57366</th>\n",
       "      <td>123022, г. Москва, ул. Красная Пресня, д. 31/2...</td>\n",
       "      <td>0</td>\n",
       "      <td>0</td>\n",
       "    </tr>\n",
       "    <tr>\n",
       "      <th>57367</th>\n",
       "      <td>117997, г. Москва, ул. Вавилова, 19/454048, г....</td>\n",
       "      <td>0</td>\n",
       "      <td>0</td>\n",
       "    </tr>\n",
       "    <tr>\n",
       "      <th>57368</th>\n",
       "      <td>117997, г. Москва, ул. Вавилова, 19/454048, г....</td>\n",
       "      <td>0</td>\n",
       "      <td>0</td>\n",
       "    </tr>\n",
       "  </tbody>\n",
       "</table>\n",
       "<p>4455 rows × 3 columns</p>\n",
       "</div>"
      ],
      "text/plain": [
       "                                                   adres  longitude  latitude\n",
       "0                               г. Миасс, ул. Силовая, 1          0         0\n",
       "1      1. Сосновский район,  п. Есаульский,  ул. Заго...          0         0\n",
       "2      1. г. Челябинск, в районе трамвайного кольца «...          0         0\n",
       "3      1. г. Челябинск, ул.Строительная, 21 (черный, ...          0         0\n",
       "4                 г. Челябинск, ул. Автодорож ная, д. 10          0         0\n",
       "...                                                  ...        ...       ...\n",
       "57364  197374, г. Санкт-Петербург, ул. Савушкина, д. ...          0         0\n",
       "57365  123022, г. Москва, ул. Красная Пресня, д. 31/2...          0         0\n",
       "57366  123022, г. Москва, ул. Красная Пресня, д. 31/2...          0         0\n",
       "57367  117997, г. Москва, ул. Вавилова, 19/454048, г....          0         0\n",
       "57368  117997, г. Москва, ул. Вавилова, 19/454048, г....          0         0\n",
       "\n",
       "[4455 rows x 3 columns]"
      ]
     },
     "execution_count": 4,
     "metadata": {},
     "output_type": "execute_result"
    }
   ],
   "source": [
    "data=data.drop_duplicates(subset=['adres'])\n",
    "data['longitude']=0\n",
    "data['latitude']=0\n",
    "\n",
    "data_adress=data[['adres','longitude','latitude']]\n",
    "data_adress['adres']=data_adress['adres'].str.replace('\\n', ' ')\n",
    "\n",
    "data_adress"
   ]
  },
  {
   "cell_type": "code",
   "execution_count": null,
   "metadata": {},
   "outputs": [],
   "source": []
  },
  {
   "cell_type": "code",
   "execution_count": 5,
   "metadata": {},
   "outputs": [
    {
     "data": {
      "text/plain": [
       "Decimal('37.563323')"
      ]
     },
     "execution_count": 5,
     "metadata": {},
     "output_type": "execute_result"
    }
   ],
   "source": [
    "from decimal import Decimal\n",
    "from yandex_geocoder import Client\n",
    "client = Client(\"key\")\n",
    "\n",
    "\n",
    "coordinates = client.coordinates('г. Москва, ул. Красная Пресня, д. 31/2')\n",
    "coordinates[0]"
   ]
  },
  {
   "cell_type": "code",
   "execution_count": 70,
   "metadata": {},
   "outputs": [
    {
     "name": "stderr",
     "output_type": "stream",
     "text": [
      "0it [00:00, ?it/s]\n"
     ]
    }
   ],
   "source": [
    "import threading\n",
    "import time\n",
    "import random\n",
    "from random import randint\n",
    "\n",
    "colll=6\n",
    "\n",
    "def worker(i):\n",
    "    time.sleep(randint(0, 20)/100)\n",
    "    data_adress.loc[i,'longitude'] =1\n",
    "    data_adress.loc[i,'latitude'] =1\n",
    "    \n",
    "    coordinates = client.coordinates(data_adress['adres'].loc[i])\n",
    "    print(coordinates)\n",
    "    data_adress.loc[i,'longitude'] =coordinates[0]\n",
    "    data_adress.loc[i,'latitude'] =coordinates[1]\n",
    "\n",
    "    #print(i)\n",
    "\n",
    "for k in tqdm(range(int(len(data_adress[data_adress['longitude']==0])/colll))):\n",
    "\n",
    "    time.sleep(0.05)\n",
    "    \n",
    "    for i in data_adress[data_adress['longitude']==0][:colll].index:\n",
    "        t = threading.Thread(target=worker, args=(i,))\n",
    "        t.start()\n",
    "data_adress.to_csv('my_data_geo.csv') "
   ]
  },
  {
   "cell_type": "code",
   "execution_count": 73,
   "metadata": {},
   "outputs": [],
   "source": [
    "data_adress_cl=data_adress[data_adress['longitude']!=1]"
   ]
  },
  {
   "cell_type": "code",
   "execution_count": 74,
   "metadata": {},
   "outputs": [
    {
     "data": {
      "text/html": [
       "<div>\n",
       "<style scoped>\n",
       "    .dataframe tbody tr th:only-of-type {\n",
       "        vertical-align: middle;\n",
       "    }\n",
       "\n",
       "    .dataframe tbody tr th {\n",
       "        vertical-align: top;\n",
       "    }\n",
       "\n",
       "    .dataframe thead th {\n",
       "        text-align: right;\n",
       "    }\n",
       "</style>\n",
       "<table border=\"1\" class=\"dataframe\">\n",
       "  <thead>\n",
       "    <tr style=\"text-align: right;\">\n",
       "      <th></th>\n",
       "      <th>adres</th>\n",
       "      <th>longitude</th>\n",
       "      <th>latitude</th>\n",
       "    </tr>\n",
       "  </thead>\n",
       "  <tbody>\n",
       "    <tr>\n",
       "      <th>0</th>\n",
       "      <td>г. Миасс, ул. Силовая, 1</td>\n",
       "      <td>60.13998</td>\n",
       "      <td>55.020931</td>\n",
       "    </tr>\n",
       "    <tr>\n",
       "      <th>3</th>\n",
       "      <td>1. г. Челябинск, ул.Строительная, 21 (черный, ...</td>\n",
       "      <td>61.642152</td>\n",
       "      <td>55.120841</td>\n",
       "    </tr>\n",
       "    <tr>\n",
       "      <th>4</th>\n",
       "      <td>г. Челябинск, ул. Автодорож ная, д. 10</td>\n",
       "      <td>61.363764</td>\n",
       "      <td>55.208209</td>\n",
       "    </tr>\n",
       "    <tr>\n",
       "      <th>5</th>\n",
       "      <td>1) г. Златоуст, ул. Уржумская, 75 2)  г. Куса,...</td>\n",
       "      <td>59.409902</td>\n",
       "      <td>55.356222</td>\n",
       "    </tr>\n",
       "    <tr>\n",
       "      <th>6</th>\n",
       "      <td>1. г. Златоуст, п. 6-ой жилой участок 2. г. Зл...</td>\n",
       "      <td>59.659813</td>\n",
       "      <td>55.17757</td>\n",
       "    </tr>\n",
       "    <tr>\n",
       "      <th>...</th>\n",
       "      <td>...</td>\n",
       "      <td>...</td>\n",
       "      <td>...</td>\n",
       "    </tr>\n",
       "    <tr>\n",
       "      <th>57364</th>\n",
       "      <td>197374, г. Санкт-Петербург, ул. Савушкина, д. ...</td>\n",
       "      <td>30.291272</td>\n",
       "      <td>59.985845</td>\n",
       "    </tr>\n",
       "    <tr>\n",
       "      <th>57365</th>\n",
       "      <td>123022, г. Москва, ул. Красная Пресня, д. 31/2...</td>\n",
       "      <td>37.574831</td>\n",
       "      <td>55.761365</td>\n",
       "    </tr>\n",
       "    <tr>\n",
       "      <th>57366</th>\n",
       "      <td>123022, г. Москва, ул. Красная Пресня, д. 31/2...</td>\n",
       "      <td>61.401044</td>\n",
       "      <td>55.164176</td>\n",
       "    </tr>\n",
       "    <tr>\n",
       "      <th>57367</th>\n",
       "      <td>117997, г. Москва, ул. Вавилова, 19/454048, г....</td>\n",
       "      <td>61.376323</td>\n",
       "      <td>55.156847</td>\n",
       "    </tr>\n",
       "    <tr>\n",
       "      <th>57368</th>\n",
       "      <td>117997, г. Москва, ул. Вавилова, 19/454048, г....</td>\n",
       "      <td>61.374068</td>\n",
       "      <td>55.156029</td>\n",
       "    </tr>\n",
       "  </tbody>\n",
       "</table>\n",
       "<p>4108 rows × 3 columns</p>\n",
       "</div>"
      ],
      "text/plain": [
       "                                                   adres  longitude   latitude\n",
       "0                               г. Миасс, ул. Силовая, 1   60.13998  55.020931\n",
       "3      1. г. Челябинск, ул.Строительная, 21 (черный, ...  61.642152  55.120841\n",
       "4                 г. Челябинск, ул. Автодорож ная, д. 10  61.363764  55.208209\n",
       "5      1) г. Златоуст, ул. Уржумская, 75 2)  г. Куса,...  59.409902  55.356222\n",
       "6      1. г. Златоуст, п. 6-ой жилой участок 2. г. Зл...  59.659813   55.17757\n",
       "...                                                  ...        ...        ...\n",
       "57364  197374, г. Санкт-Петербург, ул. Савушкина, д. ...  30.291272  59.985845\n",
       "57365  123022, г. Москва, ул. Красная Пресня, д. 31/2...  37.574831  55.761365\n",
       "57366  123022, г. Москва, ул. Красная Пресня, д. 31/2...  61.401044  55.164176\n",
       "57367  117997, г. Москва, ул. Вавилова, 19/454048, г....  61.376323  55.156847\n",
       "57368  117997, г. Москва, ул. Вавилова, 19/454048, г....  61.374068  55.156029\n",
       "\n",
       "[4108 rows x 3 columns]"
      ]
     },
     "execution_count": 74,
     "metadata": {},
     "output_type": "execute_result"
    }
   ],
   "source": [
    "data_adress_cl"
   ]
  },
  {
   "cell_type": "code",
   "execution_count": 75,
   "metadata": {},
   "outputs": [],
   "source": [
    "data_adress_cl.to_excel(\"data_adress_cl.xlsx\",sheet_name='Sheet_name_1')  "
   ]
  },
  {
   "cell_type": "code",
   "execution_count": null,
   "metadata": {},
   "outputs": [],
   "source": []
  }
 ],
 "metadata": {
  "kernelspec": {
   "display_name": "Python 3",
   "language": "python",
   "name": "python3"
  },
  "language_info": {
   "codemirror_mode": {
    "name": "ipython",
    "version": 3
   },
   "file_extension": ".py",
   "mimetype": "text/x-python",
   "name": "python",
   "nbconvert_exporter": "python",
   "pygments_lexer": "ipython3",
   "version": "3.6.9"
  }
 },
 "nbformat": 4,
 "nbformat_minor": 4
}
